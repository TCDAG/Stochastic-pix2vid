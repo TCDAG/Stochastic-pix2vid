{
 "cells": [
  {
   "cell_type": "code",
   "execution_count": 1,
   "metadata": {},
   "outputs": [],
   "source": [
    "import os\n",
    "import numpy as np\n",
    "from sklearn.decomposition import PCA\n",
    "from skimage.transform import resize\n",
    "\n",
    "import matplotlib.pyplot as plt\n",
    "from matplotlib.colors import ListedColormap\n",
    "from matplotlib.gridspec import GridSpec"
   ]
  },
  {
   "cell_type": "code",
   "execution_count": 2,
   "metadata": {},
   "outputs": [],
   "source": [
    "folder = '/mnt/e/MLTrainingImages'\n",
    "facies = []\n",
    "ftypes = []\n",
    "\n",
    "for root, dirs, files in os.walk(folder):\n",
    "    for file in files:\n",
    "        if file.endswith('.npy'):\n",
    "            fullfile = os.path.join(root, file)\n",
    "            ftype = fullfile.split('/')[4:6]\n",
    "            if ftype[0] == 'ProFluvsim' or ftype[0] == 'Turbsim':\n",
    "                ftype = ftype[0]\n",
    "            else:\n",
    "                ftype = '-'.join(ftype)\n",
    "            ftypes.append(ftype)\n",
    "            d = np.load(fullfile).reshape(256,256,128)\n",
    "            d_ = resize(d, (64,64,16))\n",
    "            facies.append(d_)"
   ]
  },
  {
   "cell_type": "code",
   "execution_count": null,
   "metadata": {},
   "outputs": [],
   "source": [
    "facies_arr = np.array(facies)\n",
    "ftypes_arr = np.array(ftypes)\n",
    "print(facies_arr.shape, ftypes_arr.shape)"
   ]
  },
  {
   "cell_type": "code",
   "execution_count": null,
   "metadata": {},
   "outputs": [],
   "source": [
    "pca = PCA(n_components=2)\n",
    "z_pca = pca.fit_transform(facies_arr.reshape(318,-1))\n",
    "\n",
    "class_map = {k: v for v, k in enumerate(np.unique(ftypes_arr))}\n",
    "ftype_class = np.array([class_map[ftype] for ftype in ftypes_arr])"
   ]
  },
  {
   "cell_type": "code",
   "execution_count": null,
   "metadata": {},
   "outputs": [],
   "source": [
    "my_jet_cmap = ListedColormap(plt.cm.tab10(np.arange(len(class_map))/len(class_map)))\n",
    "\n",
    "fig = plt.figure(figsize=(9,5))\n",
    "gs = GridSpec(8, 2, figure=fig, width_ratios=[1, 0.1])\n",
    "\n",
    "ax1 = fig.add_subplot(gs[:, 0])\n",
    "cax = fig.add_subplot(gs[:, 1])\n",
    "\n",
    "im = ax1.scatter(z_pca[:,0], z_pca[:,1], c=ftype_class, alpha=0.75, cmap=my_jet_cmap)\n",
    "ax1.set(xlabel='PC-1', ylabel='PC-2', title='PCA projection of Geologic Scenarios')\n",
    "cb = fig.colorbar(im, cax=cax, orientation='vertical')\n",
    "cb.set_ticks(np.arange(len(class_map)))\n",
    "cb.set_ticklabels(list(class_map.keys()))\n",
    "ax1.grid(True, which='both', alpha=0.5)\n",
    "\n",
    "plt.tight_layout()\n",
    "plt.show()"
   ]
  },
  {
   "cell_type": "code",
   "execution_count": null,
   "metadata": {},
   "outputs": [],
   "source": [
    "locs = []\n",
    "for i in range(8):\n",
    "    locs.append(np.argwhere(ftype_class == i).shape[0])\n",
    "print(locs)\n",
    "print(np.cumsum(locs))"
   ]
  },
  {
   "cell_type": "code",
   "execution_count": null,
   "metadata": {},
   "outputs": [],
   "source": [
    "filenames = []\n",
    "for root, dirs, files in os.walk(folder):\n",
    "    for file in files:\n",
    "        if file.endswith('.npy'):\n",
    "            fullfile = os.path.join(root, file)\n",
    "            filenames.append(fullfile)"
   ]
  },
  {
   "cell_type": "code",
   "execution_count": null,
   "metadata": {},
   "outputs": [],
   "source": [
    "layer = 64\n",
    "plt.figure(figsize=(5,8))\n",
    "for i in range(8):\n",
    "    d = np.load(filenames[np.cumsum(locs)[::-1][i]-1]).reshape(256,256,128)\n",
    "    plt.subplot(4,2,i+1)\n",
    "    plt.imshow(d[:,:,layer], cmap='viridis', interpolation='none')\n",
    "    plt.xticks([]); plt.yticks([])\n",
    "    plt.title(list(class_map.keys())[::-1][i])\n",
    "plt.tight_layout()\n",
    "plt.show()"
   ]
  },
  {
   "cell_type": "code",
   "execution_count": null,
   "metadata": {},
   "outputs": [],
   "source": []
  }
 ],
 "metadata": {
  "kernelspec": {
   "display_name": "flow",
   "language": "python",
   "name": "python3"
  },
  "language_info": {
   "codemirror_mode": {
    "name": "ipython",
    "version": 3
   },
   "file_extension": ".py",
   "mimetype": "text/x-python",
   "name": "python",
   "nbconvert_exporter": "python",
   "pygments_lexer": "ipython3",
   "version": "3.9.19"
  }
 },
 "nbformat": 4,
 "nbformat_minor": 2
}
