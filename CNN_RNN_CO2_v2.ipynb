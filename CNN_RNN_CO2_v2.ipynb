{
 "cells": [
  {
   "cell_type": "code",
   "execution_count": 1,
   "metadata": {},
   "outputs": [
    {
     "name": "stdout",
     "output_type": "stream",
     "text": [
      "Checking Tensorflow Version:\n",
      "Tensorflow built with CUDA? True\n",
      "Tensorflow version: 2.10.0\n",
      "# GPU available: 1\n",
      "CUDA: 64_112 | cuDNN: 64_8\n",
      "[PhysicalDevice(name='/physical_device:CPU:0', device_type='CPU'), PhysicalDevice(name='/physical_device:GPU:0', device_type='GPU')]\n"
     ]
    }
   ],
   "source": [
    "from utils import *\n",
    "check_tensorflow_gpu()\n",
    "K.clear_session()\n",
    "\n",
    "proxy = SpatiotemporalCO2()\n",
    "\n",
    "proxy.num_epochs = 100\n",
    "proxy.batch_size = 15\n",
    "proxy.verbose    = 1"
   ]
  },
  {
   "cell_type": "code",
   "execution_count": 2,
   "metadata": {},
   "outputs": [
    {
     "name": "stdout",
     "output_type": "stream",
     "text": [
      "X: (1000, 64, 64, 4) | y: (1000, 60, 64, 64, 2)\n",
      "normalized - X: (1000, 64, 64, 4) | y: (1000, 60, 64, 64, 2)\n",
      "Train - X: (225, 64, 64, 4) | y: (225, 60, 64, 64, 2)\n",
      "Test  - X: (75, 64, 64, 4) | y: (75, 60, 64, 64, 2)\n"
     ]
    }
   ],
   "source": [
    "proxy.load_data()\n",
    "proxy.process_data(subsample=300)"
   ]
  },
  {
   "cell_type": "code",
   "execution_count": 3,
   "metadata": {},
   "outputs": [
    {
     "name": "stdout",
     "output_type": "stream",
     "text": [
      "# Parameters: 486,038\n",
      "Epoch 1/100\n",
      "12/12 [==============================] - 25s 1s/step - loss: 0.7337 - mse: 0.2042 - val_loss: 0.6689 - val_mse: 0.0395\n",
      "Epoch 2/100\n",
      "12/12 [==============================] - 13s 1s/step - loss: 0.6740 - mse: 0.0514 - val_loss: 0.6476 - val_mse: 0.0425\n",
      "Epoch 3/100\n",
      "12/12 [==============================] - 13s 1s/step - loss: 0.6646 - mse: 0.0413 - val_loss: 0.6036 - val_mse: 0.0273\n",
      "Epoch 4/100\n",
      "12/12 [==============================] - 13s 1s/step - loss: 0.6564 - mse: 0.0361 - val_loss: 0.6190 - val_mse: 0.0239\n",
      "Epoch 5/100\n",
      "12/12 [==============================] - 13s 1s/step - loss: 0.6583 - mse: 0.0452 - val_loss: 0.6845 - val_mse: 0.0564\n",
      "Epoch 6/100\n",
      "12/12 [==============================] - 12s 1s/step - loss: 0.6650 - mse: 0.0402 - val_loss: 0.5772 - val_mse: 0.0270\n",
      "Epoch 7/100\n",
      "12/12 [==============================] - 13s 1s/step - loss: 0.6596 - mse: 0.0420 - val_loss: 0.6756 - val_mse: 0.0457\n",
      "Epoch 8/100\n",
      "12/12 [==============================] - 13s 1s/step - loss: 0.6600 - mse: 0.0427 - val_loss: 0.6806 - val_mse: 0.0583\n",
      "Epoch 9/100\n",
      "12/12 [==============================] - 12s 1s/step - loss: 0.6586 - mse: 0.0472 - val_loss: 0.6371 - val_mse: 0.0328\n",
      "Epoch 10/100\n",
      "12/12 [==============================] - 13s 1s/step - loss: 0.6492 - mse: 0.0358 - val_loss: 0.6515 - val_mse: 0.0298\n",
      "Epoch 11/100\n",
      "12/12 [==============================] - 12s 1s/step - loss: 0.6465 - mse: 0.0344 - val_loss: 0.6643 - val_mse: 0.0464\n",
      "Epoch 12/100\n",
      "12/12 [==============================] - 13s 1s/step - loss: 0.6479 - mse: 0.0430 - val_loss: 0.6655 - val_mse: 0.0456\n",
      "Epoch 13/100\n",
      "12/12 [==============================] - 13s 1s/step - loss: 0.6428 - mse: 0.0357 - val_loss: 0.6306 - val_mse: 0.0484\n",
      "Epoch 14/100\n",
      "12/12 [==============================] - 12s 1s/step - loss: 0.6530 - mse: 0.0567 - val_loss: 0.5870 - val_mse: 0.0449\n",
      "Epoch 15/100\n",
      "12/12 [==============================] - 13s 1s/step - loss: 0.6367 - mse: 0.0412 - val_loss: 0.5294 - val_mse: 0.0252\n",
      "Epoch 16/100\n",
      "12/12 [==============================] - 12s 1s/step - loss: 0.6488 - mse: 0.0408 - val_loss: 0.6877 - val_mse: 0.0697\n",
      "Epoch 17/100\n",
      "12/12 [==============================] - 13s 1s/step - loss: 0.6547 - mse: 0.0466 - val_loss: 0.6695 - val_mse: 0.0510\n",
      "Epoch 18/100\n",
      "12/12 [==============================] - 12s 1s/step - loss: 0.6447 - mse: 0.0437 - val_loss: 0.6376 - val_mse: 0.0328\n",
      "Epoch 19/100\n",
      "12/12 [==============================] - 13s 1s/step - loss: 0.6352 - mse: 0.0488 - val_loss: 0.6194 - val_mse: 0.0584\n",
      "Epoch 20/100\n",
      "12/12 [==============================] - 13s 1s/step - loss: 0.6166 - mse: 0.0509 - val_loss: 0.5760 - val_mse: 0.0384\n",
      "Epoch 21/100\n",
      "12/12 [==============================] - 12s 1s/step - loss: 0.6064 - mse: 0.0391 - val_loss: 0.6563 - val_mse: 0.0465\n",
      "Epoch 22/100\n",
      "12/12 [==============================] - 13s 1s/step - loss: 0.6257 - mse: 0.0446 - val_loss: 0.5717 - val_mse: 0.0364\n",
      "Epoch 23/100\n",
      "12/12 [==============================] - 12s 1s/step - loss: 0.5576 - mse: 0.0335 - val_loss: 0.4854 - val_mse: 0.0297\n",
      "Epoch 24/100\n",
      "12/12 [==============================] - 13s 1s/step - loss: 0.5219 - mse: 0.0342 - val_loss: 0.5057 - val_mse: 0.0289\n",
      "Epoch 25/100\n",
      "12/12 [==============================] - 13s 1s/step - loss: 0.4966 - mse: 0.0284 - val_loss: 0.4888 - val_mse: 0.0251\n",
      "Epoch 26/100\n",
      "12/12 [==============================] - 13s 1s/step - loss: 0.4852 - mse: 0.0252 - val_loss: 0.4791 - val_mse: 0.0228\n",
      "Epoch 27/100\n",
      "12/12 [==============================] - 13s 1s/step - loss: 0.4746 - mse: 0.0244 - val_loss: 0.4998 - val_mse: 0.0327\n",
      "Epoch 28/100\n",
      "12/12 [==============================] - 12s 1s/step - loss: 0.4960 - mse: 0.0337 - val_loss: 0.4888 - val_mse: 0.0328\n",
      "Epoch 29/100\n",
      "12/12 [==============================] - 13s 1s/step - loss: 0.4856 - mse: 0.0329 - val_loss: 0.4883 - val_mse: 0.0323\n",
      "Epoch 30/100\n",
      "12/12 [==============================] - 12s 1s/step - loss: 0.4808 - mse: 0.0313 - val_loss: 0.4852 - val_mse: 0.0291\n",
      "Epoch 31/100\n",
      "12/12 [==============================] - 13s 1s/step - loss: 0.4763 - mse: 0.0303 - val_loss: 0.4729 - val_mse: 0.0268\n",
      "Epoch 32/100\n",
      "12/12 [==============================] - 13s 1s/step - loss: 0.4807 - mse: 0.0404 - val_loss: 0.4566 - val_mse: 0.0326\n",
      "Epoch 33/100\n",
      "12/12 [==============================] - 12s 1s/step - loss: 0.5407 - mse: 0.0422 - val_loss: 0.4589 - val_mse: 0.0383\n",
      "Epoch 34/100\n",
      "12/12 [==============================] - 13s 1s/step - loss: 0.4320 - mse: 0.0402 - val_loss: 0.4353 - val_mse: 0.0375\n",
      "Epoch 35/100\n",
      "12/12 [==============================] - 12s 1s/step - loss: 0.3603 - mse: 0.0377 - val_loss: 0.2440 - val_mse: 0.0354\n",
      "Epoch 36/100\n",
      "12/12 [==============================] - 13s 1s/step - loss: 0.2684 - mse: 0.0356 - val_loss: 0.2501 - val_mse: 0.0337\n",
      "Epoch 37/100\n",
      "12/12 [==============================] - 13s 1s/step - loss: 0.2361 - mse: 0.0336 - val_loss: 0.2301 - val_mse: 0.0332\n",
      "Epoch 38/100\n",
      "12/12 [==============================] - 13s 1s/step - loss: 0.2196 - mse: 0.0350 - val_loss: 0.2185 - val_mse: 0.0332\n",
      "Epoch 39/100\n",
      "12/12 [==============================] - 13s 1s/step - loss: 0.2505 - mse: 0.0221 - val_loss: 0.3006 - val_mse: 0.0180\n",
      "Epoch 40/100\n",
      "12/12 [==============================] - 13s 1s/step - loss: 0.2103 - mse: 0.0185 - val_loss: 0.2070 - val_mse: 0.0177\n",
      "Epoch 41/100\n",
      "12/12 [==============================] - 13s 1s/step - loss: 0.2016 - mse: 0.0184 - val_loss: 0.2068 - val_mse: 0.0177\n",
      "Epoch 42/100\n",
      "12/12 [==============================] - 13s 1s/step - loss: 0.2015 - mse: 0.0185 - val_loss: 0.2068 - val_mse: 0.0177\n",
      "Epoch 43/100\n"
     ]
    }
   ],
   "source": [
    "model0 = proxy.make_model()\n",
    "\n",
    "model, fit = proxy.train(model0)"
   ]
  },
  {
   "cell_type": "code",
   "execution_count": null,
   "metadata": {},
   "outputs": [],
   "source": []
  },
  {
   "cell_type": "markdown",
   "metadata": {},
   "source": [
    "***\n",
    "# END"
   ]
  }
 ],
 "metadata": {
  "kernelspec": {
   "display_name": "Python 3",
   "language": "python",
   "name": "python3"
  },
  "language_info": {
   "codemirror_mode": {
    "name": "ipython",
    "version": 3
   },
   "file_extension": ".py",
   "mimetype": "text/x-python",
   "name": "python",
   "nbconvert_exporter": "python",
   "pygments_lexer": "ipython3",
   "version": "3.9.10"
  },
  "orig_nbformat": 4
 },
 "nbformat": 4,
 "nbformat_minor": 2
}
