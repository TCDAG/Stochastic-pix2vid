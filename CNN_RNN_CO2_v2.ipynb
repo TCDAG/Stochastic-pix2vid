{
 "cells": [
  {
   "cell_type": "code",
   "execution_count": 1,
   "metadata": {},
   "outputs": [
    {
     "name": "stdout",
     "output_type": "stream",
     "text": [
      "... Checking Tensorflow Version ...\n",
      "Tensorflow built with CUDA? True\n",
      "TF: 2.10.0 | CUDA: 64_112 | cuDNN: 64_8\n",
      "# GPU available: 1 (NVIDIA GeForce RTX 3080)\n"
     ]
    }
   ],
   "source": [
    "from utils import *\n",
    "check_tensorflow_gpu()\n",
    "\n",
    "proxy = SpatiotemporalCO2()"
   ]
  },
  {
   "cell_type": "code",
   "execution_count": null,
   "metadata": {},
   "outputs": [],
   "source": [
    "proxy.load_data()\n",
    "proxy.process_data(subsample=600)"
   ]
  },
  {
   "cell_type": "code",
   "execution_count": null,
   "metadata": {},
   "outputs": [],
   "source": [
    "model0 = proxy.make_model()\n",
    "model, fit = proxy.train(model0)"
   ]
  },
  {
   "cell_type": "code",
   "execution_count": null,
   "metadata": {},
   "outputs": [],
   "source": [
    "y_train_pred = model.predict(proxy.X_train)\n",
    "y_test_pred  = model.predict(proxy.X_test)\n",
    "print('Train pred: {} | Test pred: {}'.format(y_train_pred.shape, y_test_pred.shape))"
   ]
  },
  {
   "cell_type": "code",
   "execution_count": null,
   "metadata": {},
   "outputs": [],
   "source": [
    "k = 258\n",
    "\n",
    "plt.figure(figsize=(20,2))\n",
    "for i in range(4):\n",
    "    plt.subplot(1,4,i+1)\n",
    "    plt.imshow(proxy.X_train[k,:,:,i], 'jet')\n",
    "    plt.xticks([]); plt.yticks([])\n",
    "plt.show()\n",
    "\n",
    "fig, axs = plt.subplots(2, 12, figsize=(20,4))\n",
    "for j in range(12):\n",
    "    axs[0,j].imshow(proxy.y_train[k,j*5,:,:,0], 'jet')\n",
    "    axs[1,j].imshow(y_train_pred[k,j*5,:,:,0], 'jet')\n",
    "    axs[0,j].set(title='t={}'.format(j*5))\n",
    "    for i in range(2):\n",
    "        axs[i,j].set(xticks=[], yticks=[])\n",
    "axs[0,0].set(ylabel='True'); axs[1,0].set(ylabel='Pred')\n",
    "plt.show()\n",
    "\n",
    "fig, axs = plt.subplots(2, 12, figsize=(20,4))\n",
    "for j in range(12):\n",
    "    axs[0,j].imshow(proxy.y_train[k,j*5,:,:,1], 'jet')\n",
    "    axs[1,j].imshow(y_train_pred[k,j*5,:,:,1], 'jet')\n",
    "    axs[0,j].set(title='t={}'.format(j*5))\n",
    "    for i in range(2):\n",
    "        axs[i,j].set(xticks=[], yticks=[])\n",
    "axs[0,0].set(ylabel='True'); axs[1,0].set(ylabel='Pred')\n",
    "plt.show()"
   ]
  },
  {
   "cell_type": "markdown",
   "metadata": {},
   "source": [
    "***\n",
    "# END"
   ]
  }
 ],
 "metadata": {
  "kernelspec": {
   "display_name": "Python 3",
   "language": "python",
   "name": "python3"
  },
  "language_info": {
   "codemirror_mode": {
    "name": "ipython",
    "version": 3
   },
   "file_extension": ".py",
   "mimetype": "text/x-python",
   "name": "python",
   "nbconvert_exporter": "python",
   "pygments_lexer": "ipython3",
   "version": "3.9.10"
  },
  "orig_nbformat": 4
 },
 "nbformat": 4,
 "nbformat_minor": 2
}
