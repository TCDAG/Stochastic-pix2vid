{
 "cells": [
  {
   "cell_type": "code",
   "execution_count": 1,
   "metadata": {},
   "outputs": [
    {
     "name": "stderr",
     "output_type": "stream",
     "text": [
      "c:\\Users\\Misael Morales\\miniconda3\\lib\\site-packages\\tensorflow_addons\\utils\\tfa_eol_msg.py:23: UserWarning: \n",
      "\n",
      "TensorFlow Addons (TFA) has ended development and introduction of new features.\n",
      "TFA has entered a minimal maintenance and release mode until a planned end of life in May 2024.\n",
      "Please modify downstream libraries to take dependencies from other repositories in our TensorFlow community (e.g. Keras, Keras-CV, and Keras-NLP). \n",
      "\n",
      "For more information see: https://github.com/tensorflow/addons/issues/2807 \n",
      "\n",
      "  warnings.warn(\n",
      "c:\\Users\\Misael Morales\\miniconda3\\lib\\site-packages\\tensorflow_addons\\utils\\ensure_tf_install.py:53: UserWarning: Tensorflow Addons supports using Python ops for all Tensorflow versions above or equal to 2.11.0 and strictly below 2.14.0 (nightly versions are not supported). \n",
      " The versions of TensorFlow you are currently using is 2.10.0 and is not supported. \n",
      "Some things might work, some things might not.\n",
      "If you were to encounter a bug, do not file an issue.\n",
      "If you want to make sure you're using a tested and supported configuration, either change the TensorFlow version or the TensorFlow Addons's version. \n",
      "You can find the compatibility matrix in TensorFlow Addon's readme:\n",
      "https://github.com/tensorflow/addons\n",
      "  warnings.warn(\n"
     ]
    },
    {
     "name": "stdout",
     "output_type": "stream",
     "text": [
      "... Checking Tensorflow Version ...\n",
      "Tensorflow built with CUDA? True\n",
      "TF: 2.10.0 | CUDA: 64_112 | cuDNN: 64_8\n",
      "# GPU available: 1 (NVIDIA GeForce RTX 3080)\n"
     ]
    },
    {
     "data": {
      "text/plain": [
       "{'input_features_dir': 'simulations2D/input_features',\n",
       " 'output_targets_dir': 'simulations2D/output_targets',\n",
       " 'n_realizations': 1000,\n",
       " 'x_channels': 4,\n",
       " 'y_channels': 2,\n",
       " 'timesteps': 60,\n",
       " 'dim': 64,\n",
       " 'test_size': 0.25,\n",
       " 't_samples': [0, 6, 12, 18, 24, 30, 36, 42, 48, 54, 60],\n",
       " 'optimizer': <keras.optimizers.optimizer_v2.nadam.Nadam at 0x22edb919000>,\n",
       " 'criterion': <bound method SpatiotemporalCO2.custom_loss of <utils.SpatiotemporalCO2 object at 0x0000022E829C5CC0>>,\n",
       " 'L1L2_split': 0.25,\n",
       " 'loss_alpha': 0.8,\n",
       " 'regular': <keras.regularizers.L1 at 0x22edc0cb430>,\n",
       " 'leaky_slope': 0.25,\n",
       " 'num_epochs': 100,\n",
       " 'batch_size': 30,\n",
       " 'lr_sch_type': 1,\n",
       " 'lr_decay': 25,\n",
       " 'verbose': 0}"
      ]
     },
     "execution_count": 1,
     "metadata": {},
     "output_type": "execute_result"
    }
   ],
   "source": [
    "from utils import *\n",
    "check_tensorflow_gpu()\n",
    "\n",
    "proxy = SpatiotemporalCO2()\n",
    "proxy.__dict__"
   ]
  },
  {
   "cell_type": "code",
   "execution_count": 2,
   "metadata": {},
   "outputs": [
    {
     "name": "stdout",
     "output_type": "stream",
     "text": [
      "X: (1000, 64, 64, 4) | y: (1000, 60, 64, 64, 2)\n",
      "MinMax Normalization Done!\n",
      "Subsampling data for 750 samples, 11 timesteps ...\n",
      "Train - X: (562, 64, 64, 4) | y: (562, 11, 64, 64, 2)\n",
      "Test  - X: (188, 64, 64, 4) | y: (188, 11, 64, 64, 2)\n"
     ]
    }
   ],
   "source": [
    "proxy.load_data()\n",
    "proxy.process_data(subsample=750)"
   ]
  },
  {
   "cell_type": "code",
   "execution_count": 3,
   "metadata": {},
   "outputs": [
    {
     "name": "stdout",
     "output_type": "stream",
     "text": [
      "Model: \"CNN-RNN-Proxy\"\n",
      "_________________________________________________________________\n",
      " Layer (type)                Output Shape              Param #   \n",
      "=================================================================\n",
      " input_1 (InputLayer)        [(None, 64, 64, 4)]       0         \n",
      "                                                                 \n",
      " Encoder (Functional)        (None, 8, 8, 128)         197908    \n",
      "                                                                 \n",
      " Decoder (Functional)        (None, 11, 64, 64, 2)     6819994   \n",
      "                                                                 \n",
      "=================================================================\n",
      "Total params: 7,017,902\n",
      "Trainable params: 7,017,898\n",
      "Non-trainable params: 4\n",
      "_________________________________________________________________\n"
     ]
    }
   ],
   "source": [
    "model0 = proxy.make_model()\n",
    "model0.summary()"
   ]
  },
  {
   "cell_type": "code",
   "execution_count": 4,
   "metadata": {},
   "outputs": [
    {
     "name": "stdout",
     "output_type": "stream",
     "text": [
      "# Parameters: 7,017,902\n",
      "Epoch: 10 - Loss: 0.3732 - Val Loss: 0.3878\n",
      "Epoch: 20 - Loss: 0.3564 - Val Loss: 0.3609\n",
      "Epoch: 30 - Loss: 0.3437 - Val Loss: 0.3508\n",
      "Epoch: 40 - Loss: 0.3336 - Val Loss: 0.3499\n",
      "Epoch: 50 - Loss: 0.3212 - Val Loss: 0.3436\n",
      "Epoch: 60 - Loss: 0.3136 - Val Loss: 0.3376\n",
      "Epoch: 70 - Loss: 0.3089 - Val Loss: 0.3334\n"
     ]
    }
   ],
   "source": [
    "model, fit = proxy.train(model0)"
   ]
  },
  {
   "cell_type": "code",
   "execution_count": null,
   "metadata": {},
   "outputs": [],
   "source": [
    "y_train_pred = model.predict(proxy.X_train)\n",
    "y_test_pred  = model.predict(proxy.X_test)\n",
    "print('Train pred: {} | Test pred: {}'.format(y_train_pred.shape, y_test_pred.shape))"
   ]
  },
  {
   "cell_type": "code",
   "execution_count": null,
   "metadata": {},
   "outputs": [],
   "source": [
    "plot_results(32, proxy.X_train, proxy.y_train, y_train_pred, proxy.t_samples)"
   ]
  },
  {
   "cell_type": "markdown",
   "metadata": {},
   "source": [
    "***\n",
    "# END"
   ]
  }
 ],
 "metadata": {
  "kernelspec": {
   "display_name": "Python 3",
   "language": "python",
   "name": "python3"
  },
  "language_info": {
   "codemirror_mode": {
    "name": "ipython",
    "version": 3
   },
   "file_extension": ".py",
   "mimetype": "text/x-python",
   "name": "python",
   "nbconvert_exporter": "python",
   "pygments_lexer": "ipython3",
   "version": "3.10.12"
  },
  "orig_nbformat": 4
 },
 "nbformat": 4,
 "nbformat_minor": 2
}
