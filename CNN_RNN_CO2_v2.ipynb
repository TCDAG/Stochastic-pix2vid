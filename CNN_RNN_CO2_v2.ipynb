{
 "cells": [
  {
   "cell_type": "code",
   "execution_count": 2,
   "metadata": {},
   "outputs": [
    {
     "name": "stdout",
     "output_type": "stream",
     "text": [
      "... Checking Tensorflow Version ...\n",
      "Tensorflow built with CUDA? True\n",
      "TF: 2.10.0 | CUDA: 64_112 | cuDNN: 64_8\n",
      "# GPU available: 1 (NVIDIA GeForce RTX 3080)\n"
     ]
    },
    {
     "data": {
      "text/plain": [
       "{'input_features_dir': 'simulations2D/input_features',\n",
       " 'output_targets_dir': 'simulations2D/output_targets',\n",
       " 'x_data_labels': ['Poro', 'LogPerm', 'Facies', 'Wells'],\n",
       " 'y_data_labels': ['Pressure', 'Saturation'],\n",
       " 'return_data': False,\n",
       " 'n_realizations': 1000,\n",
       " 'x_channels': 4,\n",
       " 'y_channels': 2,\n",
       " 'timesteps': 60,\n",
       " 'dim': 64,\n",
       " 'test_size': 0.25,\n",
       " 't_samples': [0, 6, 12, 18, 24, 30, 36, 42, 48, 54, 60],\n",
       " 'optimizer': <tensorflow_addons.optimizers.weight_decay_optimizers.AdamW at 0x1f4b9e89bd0>,\n",
       " 'criterion': <bound method SpatiotemporalCO2.custom_loss of <utils.SpatiotemporalCO2 object at 0x000001F4E03929E0>>,\n",
       " 'L1L2_split': 0.25,\n",
       " 'loss_alpha': 0.75,\n",
       " 'regular': <keras.regularizers.L1 at 0x1f4b9e899c0>,\n",
       " 'leaky_slope': 0.25,\n",
       " 'num_epochs': 100,\n",
       " 'batch_size': 30,\n",
       " 'lr_decay': 15,\n",
       " 'verbose': 0}"
      ]
     },
     "execution_count": 2,
     "metadata": {},
     "output_type": "execute_result"
    }
   ],
   "source": [
    "from utils import *\n",
    "check_tensorflow_gpu()\n",
    "\n",
    "proxy = SpatiotemporalCO2()\n",
    "proxy.__dict__"
   ]
  },
  {
   "cell_type": "code",
   "execution_count": 3,
   "metadata": {},
   "outputs": [
    {
     "name": "stdout",
     "output_type": "stream",
     "text": [
      "X: (1000, 64, 64, 4) | y: (1000, 60, 64, 64, 2)\n",
      "MinMax Normalization Done!\n",
      "Train - X: (750, 64, 64, 4) | y: (750, 11, 64, 64, 2)\n",
      "Test  - X: (250, 64, 64, 4) | y: (250, 11, 64, 64, 2)\n"
     ]
    }
   ],
   "source": [
    "proxy.load_data()\n",
    "proxy.process_data(subsample=None)"
   ]
  },
  {
   "cell_type": "code",
   "execution_count": 4,
   "metadata": {},
   "outputs": [],
   "source": [
    "proxy.make_model()\n"
   ]
  },
  {
   "cell_type": "code",
   "execution_count": 7,
   "metadata": {},
   "outputs": [
    {
     "name": "stdout",
     "output_type": "stream",
     "text": [
      "# Parameters: 6,460,518 | Batch size: 30 \n",
      "Epoch: [10/100] - Loss: 0.1557 - Val Loss: 0.1906\n",
      "Epoch: [20/100] - Loss: 0.0483 - Val Loss: 0.0884\n",
      "Epoch: [30/100] - Loss: 0.0324 - Val Loss: 0.0560\n"
     ]
    }
   ],
   "source": [
    "proxy.training()"
   ]
  },
  {
   "cell_type": "code",
   "execution_count": null,
   "metadata": {},
   "outputs": [],
   "source": [
    "proxy.predictions()"
   ]
  },
  {
   "cell_type": "code",
   "execution_count": null,
   "metadata": {},
   "outputs": [],
   "source": [
    "proxy.plot_single_results(411, 'train')"
   ]
  },
  {
   "cell_type": "code",
   "execution_count": null,
   "metadata": {},
   "outputs": [],
   "source": [
    "proxy.cumulative_co2()"
   ]
  },
  {
   "cell_type": "markdown",
   "metadata": {},
   "source": [
    "***\n",
    "# END"
   ]
  }
 ],
 "metadata": {
  "kernelspec": {
   "display_name": "Python 3",
   "language": "python",
   "name": "python3"
  },
  "language_info": {
   "codemirror_mode": {
    "name": "ipython",
    "version": 3
   },
   "file_extension": ".py",
   "mimetype": "text/x-python",
   "name": "python",
   "nbconvert_exporter": "python",
   "pygments_lexer": "ipython3",
   "version": "3.10.12"
  },
  "orig_nbformat": 4
 },
 "nbformat": 4,
 "nbformat_minor": 2
}
