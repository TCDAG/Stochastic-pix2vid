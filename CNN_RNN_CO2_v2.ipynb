{
 "cells": [
  {
   "cell_type": "code",
   "execution_count": null,
   "metadata": {},
   "outputs": [],
   "source": [
    "from utils import *\n",
    "\n",
    "check_tensorflow_gpu()\n",
    "K.clear_session()\n",
    "\n",
    "proxy = SpatiotemporalCO2()\n",
    "\n",
    "proxy.num_epochs = 200\n",
    "proxy.batch_size = 12\n",
    "proxy.verbose = 1"
   ]
  },
  {
   "cell_type": "code",
   "execution_count": null,
   "metadata": {},
   "outputs": [],
   "source": [
    "proxy.load_data()\n",
    "proxy.process_data(subsample=500)"
   ]
  },
  {
   "cell_type": "code",
   "execution_count": null,
   "metadata": {},
   "outputs": [],
   "source": [
    "model0 = proxy.make_model()\n",
    "model, fit = proxy.train(model0)"
   ]
  },
  {
   "cell_type": "code",
   "execution_count": null,
   "metadata": {},
   "outputs": [],
   "source": [
    "y_train_pred = model.predict(proxy.X_train)\n",
    "y_test_pred  = model.predict(proxy.X_test)\n",
    "print('Train pred: {} | Test pred: {}'.format(y_train_pred.shape, y_test_pred.shape))"
   ]
  },
  {
   "cell_type": "code",
   "execution_count": null,
   "metadata": {},
   "outputs": [],
   "source": [
    "k = 78\n",
    "c = 1\n",
    "\n",
    "fig, axs = plt.subplots(2, 12, figsize=(20,4))\n",
    "for j in range(12):\n",
    "    axs[0,j].imshow(proxy.y_train[k,j*5,:,:,c], 'jet')\n",
    "    axs[1,j].imshow(y_train_pred[k,j*5,:,:,c], 'jet')\n",
    "    axs[0,j].set(title='t={}'.format(j*5))\n",
    "    for i in range(2):\n",
    "        axs[i,j].set(xticks=[], yticks=[])\n",
    "axs[0,0].set(ylabel='True'); axs[1,0].set(ylabel='Pred')\n",
    "plt.show()"
   ]
  },
  {
   "cell_type": "markdown",
   "metadata": {},
   "source": [
    "***\n",
    "# END"
   ]
  },
  {
   "cell_type": "code",
   "execution_count": 25,
   "metadata": {},
   "outputs": [
    {
     "data": {
      "text/plain": [
       "array([[26, 18],\n",
       "       [47, 23]], dtype=int64)"
      ]
     },
     "execution_count": 25,
     "metadata": {},
     "output_type": "execute_result"
    }
   ],
   "source": [
    "np.argwhere(proxy.X_train[0,:,:,-1]!=0)"
   ]
  },
  {
   "cell_type": "code",
   "execution_count": null,
   "metadata": {},
   "outputs": [],
   "source": []
  },
  {
   "cell_type": "code",
   "execution_count": null,
   "metadata": {},
   "outputs": [],
   "source": []
  },
  {
   "cell_type": "code",
   "execution_count": null,
   "metadata": {},
   "outputs": [],
   "source": []
  }
 ],
 "metadata": {
  "kernelspec": {
   "display_name": "Python 3",
   "language": "python",
   "name": "python3"
  },
  "language_info": {
   "codemirror_mode": {
    "name": "ipython",
    "version": 3
   },
   "file_extension": ".py",
   "mimetype": "text/x-python",
   "name": "python",
   "nbconvert_exporter": "python",
   "pygments_lexer": "ipython3",
   "version": "3.9.10"
  },
  "orig_nbformat": 4
 },
 "nbformat": 4,
 "nbformat_minor": 2
}
