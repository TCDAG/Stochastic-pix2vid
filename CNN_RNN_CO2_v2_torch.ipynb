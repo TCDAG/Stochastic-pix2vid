{
 "cells": [
  {
   "cell_type": "code",
   "execution_count": 2,
   "metadata": {},
   "outputs": [
    {
     "name": "stdout",
     "output_type": "stream",
     "text": [
      "Checking Tensorflow Version:\n",
      "Tensorflow built with CUDA? True\n",
      "Tensorflow version: 2.10.0\n",
      "# GPU available: 1\n",
      "CUDA: 64_112 | cuDNN: 64_8\n",
      "[PhysicalDevice(name='/physical_device:CPU:0', device_type='CPU'), PhysicalDevice(name='/physical_device:GPU:0', device_type='GPU')]\n",
      "-------------------------------------------------\n",
      "------------------ VERSION INFO -----------------\n",
      "Conda Environment: Python39 | Python version: 3.9.10 (tags/v3.9.10:f2f3f53, Jan 17 2022, 15:14:21) [MSC v.1929 64 bit (AMD64)]\n",
      "Torch version: 2.0.0+cu117\n",
      "Torch build with CUDA? True\n",
      "# Device(s) available: 1, Name(s): NVIDIA GeForce RTX 3080\n",
      "\n"
     ]
    }
   ],
   "source": [
    "from utils2d import *\n",
    "check_tensorflow_gpu()\n",
    "check_torch_gpu()"
   ]
  },
  {
   "cell_type": "code",
   "execution_count": 3,
   "metadata": {},
   "outputs": [],
   "source": [
    "facies, poro, logperm, wells, states = {}, {}, {}, {}, {}\n",
    "dim = 128\n",
    "nreal = 1000\n",
    "nsteps = 50\n",
    "pressure = np.zeros((nreal,nsteps,dim*dim))\n",
    "saturation = np.zeros((nreal,nsteps,dim*dim))\n",
    "\n",
    "for i in range(nreal):\n",
    "    facies[i]  = loadmat('simulations2D/facies/facies{}'.format(i))['facies']\n",
    "    poro[i]    = loadmat('simulations2D/porosity/poro{}.mat'.format(i))['poro']\n",
    "    logperm[i] = loadmat('simulations2D/permeability/logperm{}.mat'.format(i))['logperm']\n",
    "    wells[i]   = loadmat('simulations2D/wells/wells{}.mat'.format(i))['var']-1\n",
    "    states[i]  = loadmat('simulations2D/states/states{}.mat'.format(i), simplify_cells=True)['var']\n",
    "    for k in range(nsteps):\n",
    "        pressure[i,k] = states[i][k]['pressure'] / 6894.76 #MPa to psia\n",
    "        saturation[i,k] = states[i][k]['s'][:,1]\n",
    "timestamps = loadmat('simulations2D/timestamps.mat')['timestamps'].squeeze()"
   ]
  },
  {
   "cell_type": "code",
   "execution_count": null,
   "metadata": {},
   "outputs": [],
   "source": [
    "np.save('simulations2D/data/poro', poro)\n",
    "np.save('simulations2D/data/facies', facies)\n",
    "np.save('simulations2D/data/perm', logperm)\n",
    "np.save('simulations2D/data/wells', wells)\n",
    "np.save('simulations2D/data/pressure', pressure)\n",
    "np.save('simulations2D/data/saturation', saturation)\n",
    "np.save('simulations2D/data/timestamps', timestamps)"
   ]
  }
 ],
 "metadata": {
  "kernelspec": {
   "display_name": "Python 3",
   "language": "python",
   "name": "python3"
  },
  "language_info": {
   "codemirror_mode": {
    "name": "ipython",
    "version": 3
   },
   "file_extension": ".py",
   "mimetype": "text/x-python",
   "name": "python",
   "nbconvert_exporter": "python",
   "pygments_lexer": "ipython3",
   "version": "3.9.10"
  },
  "orig_nbformat": 4
 },
 "nbformat": 4,
 "nbformat_minor": 2
}
