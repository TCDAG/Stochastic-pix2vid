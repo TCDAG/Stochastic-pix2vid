{
 "cells": [
  {
   "cell_type": "code",
   "execution_count": 166,
   "metadata": {},
   "outputs": [
    {
     "name": "stdout",
     "output_type": "stream",
     "text": [
      "Checking Tensorflow Version:\n",
      "Tensorflow built with CUDA? True\n",
      "Tensorflow version: 2.10.0\n",
      "# GPU available: 1\n",
      "CUDA: 64_112 | cuDNN: 64_8\n",
      "[PhysicalDevice(name='/physical_device:CPU:0', device_type='CPU'), PhysicalDevice(name='/physical_device:GPU:0', device_type='GPU')]\n",
      "-------------------------------------------------\n",
      "------------------ VERSION INFO -----------------\n",
      "Conda Environment: Python39 | Python version: 3.9.10 (tags/v3.9.10:f2f3f53, Jan 17 2022, 15:14:21) [MSC v.1929 64 bit (AMD64)]\n",
      "Torch version: 2.0.0+cu117\n",
      "Torch build with CUDA? True\n",
      "# Device(s) available: 1, Name(s): NVIDIA GeForce RTX 3080\n",
      "\n"
     ]
    }
   ],
   "source": [
    "from utils2d import check_tensorflow_gpu, check_torch_gpu\n",
    "check_tensorflow_gpu()\n",
    "check_torch_gpu()\n",
    "\n",
    "import os\n",
    "import numpy as np\n",
    "import pandas as pd\n",
    "import matplotlib.pyplot as plt\n",
    "from scipy.io import loadmat, savemat\n",
    "from sklearn.preprocessing import MinMaxScaler"
   ]
  },
  {
   "cell_type": "code",
   "execution_count": 237,
   "metadata": {},
   "outputs": [
    {
     "data": {
      "text/plain": [
       "{'pressure': array([27579462.44403611, 27581460.94421872, 27583503.73729446, ...,\n",
       "        27589480.98454737, 27585358.88175992, 27581496.62453864]),\n",
       " 's': array([[1., 0.],\n",
       "        [1., 0.],\n",
       "        [1., 0.],\n",
       "        ...,\n",
       "        [1., 0.],\n",
       "        [1., 0.],\n",
       "        [1., 0.]]),\n",
       " 'sGmax': array([0., 0., 0., ..., 0., 0., 0.]),\n",
       " 'time': 2629746,\n",
       " 'wellSol': [{'name': 'Injector1',\n",
       "   'status': 1,\n",
       "   'type': 'rate',\n",
       "   'val': 0.004406319089372129,\n",
       "   'sign': 1,\n",
       "   'bhp': 32999327.014529463,\n",
       "   'qWs': 0,\n",
       "   'qOs': array([], dtype=uint8),\n",
       "   'qGs': 0.004406319089372129,\n",
       "   'qSs': array([], dtype=uint8),\n",
       "   'mixs': array([0, 1], dtype=uint8),\n",
       "   'cstatus': 1,\n",
       "   'cdp': 0,\n",
       "   'cqs': array([0.        , 0.00440632]),\n",
       "   'qs': array([2.22044605e-16, 2.22044605e-16]),\n",
       "   'qTs': 0.004406319089372129,\n",
       "   'qTr': 0.004226791679737019,\n",
       "   'qGr': 0.004226791679737019,\n",
       "   'qWr': 0,\n",
       "   'gcut': 1,\n",
       "   'flux': array([0.        , 0.00422679])},\n",
       "  {'name': 'Injector2',\n",
       "   'status': 1,\n",
       "   'type': 'rate',\n",
       "   'val': 0.004406319089372129,\n",
       "   'sign': 1,\n",
       "   'bhp': 72215695.83572698,\n",
       "   'qWs': 0,\n",
       "   'qOs': array([], dtype=uint8),\n",
       "   'qGs': 0.004406319089372129,\n",
       "   'qSs': array([], dtype=uint8),\n",
       "   'mixs': array([0, 1], dtype=uint8),\n",
       "   'cstatus': 1,\n",
       "   'cdp': 0,\n",
       "   'cqs': array([0.        , 0.00440632]),\n",
       "   'qs': array([2.22044605e-16, 2.22044605e-16]),\n",
       "   'qTs': 0.004406319089372129,\n",
       "   'qTr': 0.0031405666427845318,\n",
       "   'qGr': 0.0031405666427845318,\n",
       "   'qWr': 0,\n",
       "   'gcut': 1,\n",
       "   'flux': array([0.        , 0.00314057])}],\n",
       " 'sMax': array([[1., 0.],\n",
       "        [1., 0.],\n",
       "        [1., 0.],\n",
       "        ...,\n",
       "        [1., 0.],\n",
       "        [1., 0.],\n",
       "        [1., 0.]]),\n",
       " 'rs': 0,\n",
       " 'rv': 0,\n",
       " 'flux': array([[-6.50937653e-08, -0.00000000e+00],\n",
       "        [-6.33612274e-08, -0.00000000e+00],\n",
       "        [-5.30704217e-08, -0.00000000e+00],\n",
       "        ...,\n",
       "        [ 0.00000000e+00,  0.00000000e+00],\n",
       "        [ 0.00000000e+00,  0.00000000e+00],\n",
       "        [ 0.00000000e+00,  0.00000000e+00]])}"
      ]
     },
     "execution_count": 237,
     "metadata": {},
     "output_type": "execute_result"
    }
   ],
   "source": [
    "pressure = np.zeros((1000,60,64,64))\n",
    "saturation = np.zeros((1000,60,64,64))\n",
    "for i in range(1000):\n",
    "    for t in range(60):\n",
    "        pressure[i,t] = loadmat('simulations2D/states/states{}.mat'.format(i+1), simplify_cells=True)['var'][t]['pressure'].reshape(64,64) / 6894.76\n",
    "        saturation[i,t] = loadmat('simulations2D/states/states{}.mat'.format(i+1), simplify_cells=True)['var'][t]['s'][:,-1].reshape(64,64)"
   ]
  },
  {
   "cell_type": "code",
   "execution_count": null,
   "metadata": {},
   "outputs": [],
   "source": []
  }
 ],
 "metadata": {
  "kernelspec": {
   "display_name": "Python 3",
   "language": "python",
   "name": "python3"
  },
  "language_info": {
   "codemirror_mode": {
    "name": "ipython",
    "version": 3
   },
   "file_extension": ".py",
   "mimetype": "text/x-python",
   "name": "python",
   "nbconvert_exporter": "python",
   "pygments_lexer": "ipython3",
   "version": "3.9.10"
  },
  "orig_nbformat": 4
 },
 "nbformat": 4,
 "nbformat_minor": 2
}
