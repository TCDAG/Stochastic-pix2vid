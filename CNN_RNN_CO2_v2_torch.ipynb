{
 "cells": [
  {
   "cell_type": "code",
   "execution_count": 59,
   "metadata": {},
   "outputs": [
    {
     "name": "stdout",
     "output_type": "stream",
     "text": [
      "-------------------------------------------------\n",
      "------------------ VERSION INFO -----------------\n",
      "Conda Environment: Python39 | Python version: 3.9.10 (tags/v3.9.10:f2f3f53, Jan 17 2022, 15:14:21) [MSC v.1929 64 bit (AMD64)]\n",
      "Torch version: 2.0.0+cu117\n",
      "Torch build with CUDA? True\n",
      "# Device(s) available: 1, Name(s): NVIDIA GeForce RTX 3080\n",
      "\n"
     ]
    }
   ],
   "source": [
    "from utils2d import check_tensorflow_gpu, check_torch_gpu\n",
    "check_torch_gpu()\n",
    "\n",
    "import os\n",
    "import numpy as np\n",
    "import pandas as pd\n",
    "import matplotlib.pyplot as plt\n",
    "\n",
    "from scipy.io import loadmat, savemat\n",
    "from cv2 import resize\n",
    "\n",
    "from sklearn.preprocessing import MinMaxScaler\n",
    "from sklearn.model_selection import train_test_split\n",
    "\n",
    "import torch\n",
    "import torch.nn as nn\n",
    "from torch.utils.data import Dataset, DataLoader\n",
    "from torchvision import transforms"
   ]
  },
  {
   "cell_type": "code",
   "execution_count": 57,
   "metadata": {},
   "outputs": [],
   "source": [
    "# Define custom dataset classes for train and test sets\n",
    "class CustomDataset(Dataset):\n",
    "    def __init__(self, root_X, root_y, filenames_X, filenames_y):\n",
    "        self.root_X, self.root_y = root_X, root_y\n",
    "        self.filenames_X = filenames_X\n",
    "        self.filenames_y = filenames_y\n",
    "\n",
    "    def __len__(self):\n",
    "        return len(self.filenames_X)\n",
    "\n",
    "    def __getitem__(self, idx):\n",
    "        X_path = os.path.join(self.root_X, self.filenames_X[idx])\n",
    "        y_path = os.path.join(self.root_y, self.filenames_y[idx])\n",
    "        X_array, y_array = np.load(X_path), np.load(y_path)\n",
    "        X_normalized = (X_array - X_array.min()) / (X_array.max() - X_array.min())\n",
    "        y_normalized = (y_array - y_array.min()) / (y_array.max() - y_array.min())\n",
    "        X_tensor = torch.from_numpy(X_normalized)\n",
    "        y_tensor = torch.from_numpy(y_normalized)\n",
    "        return X_tensor, y_tensor"
   ]
  },
  {
   "cell_type": "code",
   "execution_count": 58,
   "metadata": {},
   "outputs": [],
   "source": [
    "# Define your root folders\n",
    "root_X_folder, root_y_folder = 'simulations2D/input_features', 'simulations2D/output_targets'\n",
    "X_filenames,   y_filenames   =  os.listdir(root_X_folder),      os.listdir(root_y_folder)\n",
    "X_train_filenames, X_test_filenames, y_train_filenames, y_test_filenames = train_test_split(X_filenames, y_filenames, test_size=0.25, random_state=42)\n",
    "\n",
    "# Create custom dataset instances for train and test sets\n",
    "train_dataset = CustomDataset(root_X=root_X_folder, root_y=root_y_folder, filenames_X=X_train_filenames, filenames_y=y_train_filenames)\n",
    "test_dataset  = CustomDataset(root_X=root_X_folder, root_y=root_y_folder, filenames_X=X_test_filenames,  filenames_y=y_test_filenames)\n",
    "\n",
    "# Create dataloaders for train and test sets\n",
    "batch_size = 32\n",
    "train_dataloader = DataLoader(train_dataset, batch_size=batch_size, shuffle=True)\n",
    "test_dataloader  = DataLoader(test_dataset,  batch_size=batch_size, shuffle=False)"
   ]
  },
  {
   "cell_type": "code",
   "execution_count": 76,
   "metadata": {},
   "outputs": [],
   "source": [
    "class SeparableConv2d(nn.Module):\n",
    "    def __init__(self, in_channels, out_channels, kernel_size=(3,3), bias=False):\n",
    "        super(SeparableConv2d, self).__init__()\n",
    "        self.depthwise = nn.Conv2d(in_channels, in_channels,  kernel_size=kernel_size, groups=in_channels, bias=bias, padding=1)\n",
    "        self.pointwise = nn.Conv2d(in_channels, out_channels, kernel_size=1, bias=bias)\n",
    "    def forward(self, x):\n",
    "        out = self.depthwise(x)\n",
    "        out = self.pointwise(out)\n",
    "        return out"
   ]
  },
  {
   "cell_type": "code",
   "execution_count": 77,
   "metadata": {},
   "outputs": [],
   "source": [
    "class convBlock(nn.Module):\n",
    "    def __init__(self, in_ch, out_ch):\n",
    "        super(convBlock, self).__init__()\n",
    "        self.conv = SeparableConv2d(in_ch, out_ch)\n",
    "        self.norm = nn.InstanceNorm2d(out_ch)\n",
    "        self.actv = nn.LeakyReLU(0.3)\n",
    "        self.pool = MaxPool2d(2)\n",
    "\n",
    "    def forward(self, x):\n",
    "        x = self.conv(x)\n",
    "        x = self.norm(x)\n",
    "        x = self.actv(x)\n",
    "        x = self.pool(x)\n",
    "        return x\n"
   ]
  },
  {
   "cell_type": "code",
   "execution_count": 78,
   "metadata": {},
   "outputs": [],
   "source": [
    "class proxy(nn.Module):\n",
    "    def __init__(self):\n",
    "        super(proxy, self).__init__()\n",
    "        self.conv1 = convBlock(4, 16)\n",
    "        self.conv2 = convBlock(16, 32)\n",
    "        self.conv3 = convBlock(32, 64)\n",
    "        self.conv4 = convBlock(64, 128)\n",
    "    def forward(self, x):\n",
    "        x = self.conv1(x)\n",
    "        x = self.conv2(x)\n",
    "        x = self.conv3(x)\n",
    "        x = self.conv4(x)\n",
    "        return x"
   ]
  },
  {
   "cell_type": "code",
   "execution_count": 80,
   "metadata": {},
   "outputs": [
    {
     "ename": "NameError",
     "evalue": "name 'MaxPool2d' is not defined",
     "output_type": "error",
     "traceback": [
      "\u001b[1;31m---------------------------------------------------------------------------\u001b[0m",
      "\u001b[1;31mNameError\u001b[0m                                 Traceback (most recent call last)",
      "\u001b[1;32me:\\CNN-RNN-CO2\\CNN_RNN_CO2_v2_torch.ipynb Cell 7\u001b[0m in \u001b[0;36m1\n\u001b[1;32m----> <a href='vscode-notebook-cell:/e%3A/CNN-RNN-CO2/CNN_RNN_CO2_v2_torch.ipynb#X66sZmlsZQ%3D%3D?line=0'>1</a>\u001b[0m model \u001b[39m=\u001b[39m proxy()\n\u001b[0;32m      <a href='vscode-notebook-cell:/e%3A/CNN-RNN-CO2/CNN_RNN_CO2_v2_torch.ipynb#X66sZmlsZQ%3D%3D?line=1'>2</a>\u001b[0m model(x)\n",
      "\u001b[1;32me:\\CNN-RNN-CO2\\CNN_RNN_CO2_v2_torch.ipynb Cell 7\u001b[0m in \u001b[0;36m4\n\u001b[0;32m      <a href='vscode-notebook-cell:/e%3A/CNN-RNN-CO2/CNN_RNN_CO2_v2_torch.ipynb#X66sZmlsZQ%3D%3D?line=1'>2</a>\u001b[0m \u001b[39mdef\u001b[39;00m \u001b[39m__init__\u001b[39m(\u001b[39mself\u001b[39m):\n\u001b[0;32m      <a href='vscode-notebook-cell:/e%3A/CNN-RNN-CO2/CNN_RNN_CO2_v2_torch.ipynb#X66sZmlsZQ%3D%3D?line=2'>3</a>\u001b[0m     \u001b[39msuper\u001b[39m(proxy, \u001b[39mself\u001b[39m)\u001b[39m.\u001b[39m\u001b[39m__init__\u001b[39m()\n\u001b[1;32m----> <a href='vscode-notebook-cell:/e%3A/CNN-RNN-CO2/CNN_RNN_CO2_v2_torch.ipynb#X66sZmlsZQ%3D%3D?line=3'>4</a>\u001b[0m     \u001b[39mself\u001b[39m\u001b[39m.\u001b[39mconv1 \u001b[39m=\u001b[39m convBlock(\u001b[39m4\u001b[39;49m, \u001b[39m16\u001b[39;49m)\n\u001b[0;32m      <a href='vscode-notebook-cell:/e%3A/CNN-RNN-CO2/CNN_RNN_CO2_v2_torch.ipynb#X66sZmlsZQ%3D%3D?line=4'>5</a>\u001b[0m     \u001b[39mself\u001b[39m\u001b[39m.\u001b[39mconv2 \u001b[39m=\u001b[39m convBlock(\u001b[39m16\u001b[39m, \u001b[39m32\u001b[39m)\n\u001b[0;32m      <a href='vscode-notebook-cell:/e%3A/CNN-RNN-CO2/CNN_RNN_CO2_v2_torch.ipynb#X66sZmlsZQ%3D%3D?line=5'>6</a>\u001b[0m     \u001b[39mself\u001b[39m\u001b[39m.\u001b[39mconv3 \u001b[39m=\u001b[39m convBlock(\u001b[39m32\u001b[39m, \u001b[39m64\u001b[39m)\n",
      "\u001b[1;32me:\\CNN-RNN-CO2\\CNN_RNN_CO2_v2_torch.ipynb Cell 7\u001b[0m in \u001b[0;36m7\n\u001b[0;32m      <a href='vscode-notebook-cell:/e%3A/CNN-RNN-CO2/CNN_RNN_CO2_v2_torch.ipynb#X66sZmlsZQ%3D%3D?line=4'>5</a>\u001b[0m \u001b[39mself\u001b[39m\u001b[39m.\u001b[39mnorm \u001b[39m=\u001b[39m nn\u001b[39m.\u001b[39mInstanceNorm2d(out_ch)\n\u001b[0;32m      <a href='vscode-notebook-cell:/e%3A/CNN-RNN-CO2/CNN_RNN_CO2_v2_torch.ipynb#X66sZmlsZQ%3D%3D?line=5'>6</a>\u001b[0m \u001b[39mself\u001b[39m\u001b[39m.\u001b[39mactv \u001b[39m=\u001b[39m nn\u001b[39m.\u001b[39mLeakyReLU(\u001b[39m0.3\u001b[39m)\n\u001b[1;32m----> <a href='vscode-notebook-cell:/e%3A/CNN-RNN-CO2/CNN_RNN_CO2_v2_torch.ipynb#X66sZmlsZQ%3D%3D?line=6'>7</a>\u001b[0m \u001b[39mself\u001b[39m\u001b[39m.\u001b[39mpool \u001b[39m=\u001b[39m MaxPool2d(\u001b[39m2\u001b[39m)\n",
      "\u001b[1;31mNameError\u001b[0m: name 'MaxPool2d' is not defined"
     ]
    }
   ],
   "source": [
    "model = proxy()\n",
    "model(x)"
   ]
  },
  {
   "cell_type": "code",
   "execution_count": null,
   "metadata": {},
   "outputs": [],
   "source": []
  }
 ],
 "metadata": {
  "kernelspec": {
   "display_name": "Python 3",
   "language": "python",
   "name": "python3"
  },
  "language_info": {
   "codemirror_mode": {
    "name": "ipython",
    "version": 3
   },
   "file_extension": ".py",
   "mimetype": "text/x-python",
   "name": "python",
   "nbconvert_exporter": "python",
   "pygments_lexer": "ipython3",
   "version": "3.9.10"
  },
  "orig_nbformat": 4
 },
 "nbformat": 4,
 "nbformat_minor": 2
}
