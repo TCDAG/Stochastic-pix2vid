{
 "cells": [
  {
   "cell_type": "code",
   "execution_count": 1,
   "metadata": {},
   "outputs": [
    {
     "name": "stdout",
     "output_type": "stream",
     "text": [
      "-------------------------------------------------\n",
      "------------------ VERSION INFO -----------------\n",
      "Conda Environment: Python39\n",
      "Torch version: 2.0.0+cu117\n",
      "Torch build with CUDA? True\n",
      "# Device(s) available: 1, Name(s): NVIDIA GeForce RTX 3080\n",
      "\n"
     ]
    }
   ],
   "source": [
    "from utils_torch import *\n",
    "\n",
    "proxy = torch_SpatioTemporalCO2()\n",
    "device = proxy.check_torch_gpu()\n",
    "\n",
    "train_dataloader, test_dataloader, train_dataset, test_dataset = proxy.make_dataloaders()"
   ]
  },
  {
   "cell_type": "code",
   "execution_count": 2,
   "metadata": {},
   "outputs": [
    {
     "name": "stdout",
     "output_type": "stream",
     "text": [
      "# Parameters: 510,302\n"
     ]
    }
   ],
   "source": [
    "model = proxy.trainer()"
   ]
  },
  {
   "cell_type": "code",
   "execution_count": null,
   "metadata": {},
   "outputs": [],
   "source": [
    "x = torch.zeros((25,4,64,64)).to(device)\n",
    "y = torch.zeros((25,60,2,64,64)).to(device)\n",
    "\n",
    "for i in range(25):\n",
    "    xt, yt = proxy.train_dataset[i]\n",
    "    x[i] = xt\n",
    "    y[i] = yt\n",
    "\n",
    "y_train      = y.detach().cpu().numpy()\n",
    "y_train_pred = model(x).cpu().detach().numpy()\n",
    "print(y_train_pred.shape)\n",
    "print(y_train.shape)"
   ]
  },
  {
   "cell_type": "code",
   "execution_count": null,
   "metadata": {},
   "outputs": [],
   "source": [
    "n = 0\n",
    "c = 1\n",
    "\n",
    "fig, axs = plt.subplots(2, 12, figsize=(15,4))\n",
    "for j in range(12):\n",
    "    axs[0,j].imshow(y_train[n,j*5,c], 'jet')\n",
    "    axs[1,j].imshow(y_train_pred[n,j*5,c], 'jet')\n",
    "    for i in range(2):\n",
    "        axs[i,j].set(xticks=[], yticks=[])\n",
    "plt.show()"
   ]
  },
  {
   "cell_type": "code",
   "execution_count": null,
   "metadata": {},
   "outputs": [],
   "source": []
  }
 ],
 "metadata": {
  "kernelspec": {
   "display_name": "Python 3",
   "language": "python",
   "name": "python3"
  },
  "language_info": {
   "codemirror_mode": {
    "name": "ipython",
    "version": 3
   },
   "file_extension": ".py",
   "mimetype": "text/x-python",
   "name": "python",
   "nbconvert_exporter": "python",
   "pygments_lexer": "ipython3",
   "version": "3.9.10"
  },
  "orig_nbformat": 4
 },
 "nbformat": 4,
 "nbformat_minor": 2
}
