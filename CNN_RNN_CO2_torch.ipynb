{
 "cells": [
  {
   "cell_type": "code",
   "execution_count": 1,
   "metadata": {},
   "outputs": [
    {
     "name": "stdout",
     "output_type": "stream",
     "text": [
      "-------------------------------------------------\n",
      "------------------ VERSION INFO -----------------\n",
      "Conda Environment: Python39\n",
      "Torch version: 2.0.0+cu117\n",
      "Torch build with CUDA? True\n",
      "# Device(s) available: 1, Name(s): NVIDIA GeForce RTX 3080\n",
      "\n"
     ]
    }
   ],
   "source": [
    "from utils_torch import *\n",
    "\n",
    "proxy = torch_SpatioTemporalCO2()\n",
    "device = proxy.check_torch_gpu()\n",
    "\n",
    "train_dataloader, test_dataloader, train_dataset, test_dataset = proxy.make_dataloaders()"
   ]
  },
  {
   "cell_type": "code",
   "execution_count": 2,
   "metadata": {},
   "outputs": [
    {
     "name": "stdout",
     "output_type": "stream",
     "text": [
      "# Params: 373,274\n"
     ]
    }
   ],
   "source": [
    "model = ProxyModel()\n",
    "model.to(device)\n",
    "print('# Params: {:,}'.format(count_params(model)))\n",
    "\n",
    "optimizer = torch.optim.NAdam(model.parameters(), lr=8e-3, weight_decay=1e-4)\n",
    "scheduler = torch.optim.lr_scheduler.CosineAnnealingLR(optimizer, T_max=30)\n",
    "criterion = CustomLoss().to(device)\n",
    "\n",
    "num_epochs = 50\n",
    "batch_size = 32\n",
    "\n",
    "for epoch in range(num_epochs):\n",
    "    model.train()\n",
    "    train_loss = 0.0\n",
    "\n",
    "    train_subset_size = int(len(train_dataset) * 0.8)  # 80% for training\n",
    "    train_subset, val_subset = torch.utils.data.random_split(train_dataset, [train_subset_size, len(train_dataset) - train_subset_size])\n",
    "    train_dataloader = DataLoader(train_subset, batch_size=batch_size, shuffle=True)\n",
    "    valid_dataloader = DataLoader(val_subset, batch_size=batch_size, shuffle=False)\n",
    "\n",
    "    for batch_idx, (x, y) in enumerate(train_dataloader):\n",
    "        x, y = x.float().to(device), y.float().to(device)\n",
    "        optimizer.zero_grad()\n",
    "        y_pred = model(x)\n",
    "        loss = criterion(y_pred, y)\n",
    "        loss.backward()\n",
    "        optimizer.step()\n",
    "        train_loss += loss.item()\n",
    "    tot_train_loss = train_loss/len(train_dataloader)\n",
    "\n",
    "    model.eval()\n",
    "    val_loss = 0.0\n",
    "    with torch.no_grad():\n",
    "        for batch_idx, (x, y) in enumerate(valid_dataloader):\n",
    "            x, y = x.float().to(device), y.float().to(device)\n",
    "            y_pred = model(x)\n",
    "            loss = criterion(y_pred, y)\n",
    "            val_loss += loss.item()\n",
    "    tot_valid_loss = val_loss/len(valid_dataloader)\n",
    "    \n",
    "    if (epoch+1) % 5 == 0:\n",
    "        print('Epoch: [{}/{}] | Loss: {:.4f} | Validation Loss: {:.4f}'.format(epoch+1, num_epochs, tot_train_loss, tot_valid_loss))\n",
    "\n",
    "print(\"Training finished.\")"
   ]
  },
  {
   "cell_type": "code",
   "execution_count": null,
   "metadata": {},
   "outputs": [],
   "source": []
  }
 ],
 "metadata": {
  "kernelspec": {
   "display_name": "Python 3",
   "language": "python",
   "name": "python3"
  },
  "language_info": {
   "codemirror_mode": {
    "name": "ipython",
    "version": 3
   },
   "file_extension": ".py",
   "mimetype": "text/x-python",
   "name": "python",
   "nbconvert_exporter": "python",
   "pygments_lexer": "ipython3",
   "version": "3.9.10"
  },
  "orig_nbformat": 4
 },
 "nbformat": 4,
 "nbformat_minor": 2
}
